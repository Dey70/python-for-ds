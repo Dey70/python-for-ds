{
 "cells": [
  {
   "cell_type": "code",
   "execution_count": 2,
   "id": "a5714e67-7bd8-4e09-87e1-4e7c6de756b7",
   "metadata": {},
   "outputs": [],
   "source": [
    "import numpy as np"
   ]
  },
  {
   "cell_type": "markdown",
   "id": "7f18f809-a36f-4ef4-9256-5dc08af03621",
   "metadata": {},
   "source": [
    "Create a 1D NumPy array with values from 10 to 19."
   ]
  },
  {
   "cell_type": "code",
   "execution_count": 3,
   "id": "b59ff11c-f9ff-4b44-bed4-59e97dbc1269",
   "metadata": {},
   "outputs": [
    {
     "data": {
      "text/plain": [
       "array([10, 11, 12, 13, 14, 15, 16, 17, 18, 19])"
      ]
     },
     "execution_count": 3,
     "metadata": {},
     "output_type": "execute_result"
    }
   ],
   "source": [
    "a = np.arange(10,20)\n",
    "a\n"
   ]
  },
  {
   "cell_type": "markdown",
   "id": "8c454d56-056d-41eb-8063-f29755c8bfe4",
   "metadata": {},
   "source": [
    "Create a 3x3 matrix of all True values."
   ]
  },
  {
   "cell_type": "code",
   "execution_count": 7,
   "id": "e56a0c74-fed4-4ab0-b3fb-b2a148c9eb7c",
   "metadata": {},
   "outputs": [
    {
     "data": {
      "text/plain": [
       "array([[[10, 11],\n",
       "        [12, 13]],\n",
       "\n",
       "       [[14, 15],\n",
       "        [16, 17]]])"
      ]
     },
     "execution_count": 7,
     "metadata": {},
     "output_type": "execute_result"
    }
   ],
   "source": [
    "a = np.arange(10,18).reshape(2,2,2)\n",
    "a"
   ]
  },
  {
   "cell_type": "markdown",
   "id": "84667a7c-862f-4623-a082-afafc5b48bdc",
   "metadata": {},
   "source": [
    "Given arr = np.array([5, 10, 15, 20]), write code to replace the second element with 99"
   ]
  },
  {
   "cell_type": "code",
   "execution_count": 10,
   "id": "28eb8423-f915-40e2-9ba0-9cc14b54d39c",
   "metadata": {},
   "outputs": [
    {
     "data": {
      "text/plain": [
       "array([ 5, 22, 15, 20])"
      ]
     },
     "execution_count": 10,
     "metadata": {},
     "output_type": "execute_result"
    }
   ],
   "source": [
    "arr = np.array([5, 10, 15, 20])\n",
    "arr[1] = 22\n",
    "arr"
   ]
  },
  {
   "cell_type": "markdown",
   "id": "8220c6a6-32f8-4738-8a56-5150f6b3fd13",
   "metadata": {},
   "source": [
    "Create a 5x5 identity matrix."
   ]
  },
  {
   "cell_type": "code",
   "execution_count": 12,
   "id": "92883c6f-370c-4da6-8f92-b342d95f9e15",
   "metadata": {},
   "outputs": [
    {
     "data": {
      "text/plain": [
       "array([[1, 0, 0, 0, 0],\n",
       "       [0, 1, 0, 0, 0],\n",
       "       [0, 0, 1, 0, 0],\n",
       "       [0, 0, 0, 1, 0],\n",
       "       [0, 0, 0, 0, 1]])"
      ]
     },
     "execution_count": 12,
     "metadata": {},
     "output_type": "execute_result"
    }
   ],
   "source": [
    "a = np.eye(5, dtype=int)\n",
    "a"
   ]
  },
  {
   "cell_type": "markdown",
   "id": "9330542c-b9ef-4b49-86af-6daa912dd379",
   "metadata": {},
   "source": [
    "Generate an array of 7 evenly spaced values between 0 and 1 (inclusive)."
   ]
  },
  {
   "cell_type": "code",
   "execution_count": 13,
   "id": "a5bf32d8-8f85-4868-9cee-c602a8ffe849",
   "metadata": {},
   "outputs": [
    {
     "data": {
      "text/plain": [
       "array([0.        , 0.16666667, 0.33333333, 0.5       , 0.66666667,\n",
       "       0.83333333, 1.        ])"
      ]
     },
     "execution_count": 13,
     "metadata": {},
     "output_type": "execute_result"
    }
   ],
   "source": [
    "a = np.linspace(0,1,7)\n",
    "a"
   ]
  },
  {
   "cell_type": "markdown",
   "id": "dcc00400-519b-4359-b4e8-95cc2a966f57",
   "metadata": {},
   "source": [
    "Reverse the following array: np.array([1, 2, 3, 4, 5])"
   ]
  },
  {
   "cell_type": "code",
   "execution_count": 15,
   "id": "ea6f8e01-cc95-42bf-9423-b72c9dd6f7ac",
   "metadata": {},
   "outputs": [
    {
     "data": {
      "text/plain": [
       "array([5, 4, 3, 2, 1])"
      ]
     },
     "execution_count": 15,
     "metadata": {},
     "output_type": "execute_result"
    }
   ],
   "source": [
    "a = np.array([1, 2, 3, 4, 5])\n",
    "a[::-1]"
   ]
  },
  {
   "cell_type": "markdown",
   "id": "0b6fb18a-e5f0-4f50-9d66-24b31834d3e1",
   "metadata": {},
   "source": [
    "Create a 4x4 matrix with random integers from 0 to 100. Set the first row to all zeros."
   ]
  },
  {
   "cell_type": "code",
   "execution_count": 41,
   "id": "40b06100-7c1e-4b7a-af75-a7cbf1e12913",
   "metadata": {},
   "outputs": [
    {
     "name": "stdout",
     "output_type": "stream",
     "text": [
      "Original Matrix: \n",
      " [[ 3 92 37 56]\n",
      " [79 59 38 94]\n",
      " [24 71 17 97]\n",
      " [14 15  8 11]]\n",
      "After update: \n",
      " [[ 0  0  0  0]\n",
      " [79 59 38 94]\n",
      " [24 71 17 97]\n",
      " [14 15  8 11]]\n"
     ]
    }
   ],
   "source": [
    "a = np.random.randint(1,100, size=(4,4))\n",
    "print(\"Original Matrix: \\n\", a)\n",
    "\n",
    "a[:1] = 0\n",
    "print(\"After update: \\n\",a)"
   ]
  },
  {
   "cell_type": "markdown",
   "id": "4d560a63-0d06-4067-b343-854eecb03997",
   "metadata": {},
   "source": [
    "Extract all elements greater than 50 from this array: arr = np.array([10, 65, 80, 30, 55])"
   ]
  },
  {
   "cell_type": "code",
   "execution_count": 42,
   "id": "2c3cd82e-3745-494b-9fbf-0a1e56d7e57f",
   "metadata": {},
   "outputs": [
    {
     "data": {
      "text/plain": [
       "array([65, 80, 55])"
      ]
     },
     "execution_count": 42,
     "metadata": {},
     "output_type": "execute_result"
    }
   ],
   "source": [
    "arr = np.array([10, 65, 80, 30, 55])\n",
    "arr[arr>50]"
   ]
  },
  {
   "cell_type": "markdown",
   "id": "bdabd9e6-5727-4faa-a40e-2cb0d96c048c",
   "metadata": {},
   "source": [
    "Create a 2D array of shape (3, 4) filled with the value 7."
   ]
  },
  {
   "cell_type": "code",
   "execution_count": 50,
   "id": "3bec3070-7074-4896-bc1c-619e78fe5719",
   "metadata": {},
   "outputs": [
    {
     "name": "stdout",
     "output_type": "stream",
     "text": [
      "[[7 7 7 7]\n",
      " [7 7 7 7]\n",
      " [7 7 7 7]]\n"
     ]
    }
   ],
   "source": [
    "a = np.ones(12, dtype = int)\n",
    "_2d_arr = a*7\n",
    "print(_2d_arr.reshape(3,4))"
   ]
  },
  {
   "cell_type": "markdown",
   "id": "a0e1db87-52ca-4d58-beef-71d6cfb00add",
   "metadata": {},
   "source": [
    "Given this array:\n",
    "\n",
    "python\n",
    "Copy code\n",
    "arr = np.array([[1, 2, 3], [4, 5, 6]])\n",
    "How do you extract the value 5 using indexing?"
   ]
  },
  {
   "cell_type": "code",
   "execution_count": 52,
   "id": "73860a49-a029-4c98-9d49-601e4b18587d",
   "metadata": {},
   "outputs": [
    {
     "data": {
      "text/plain": [
       "5"
      ]
     },
     "execution_count": 52,
     "metadata": {},
     "output_type": "execute_result"
    }
   ],
   "source": [
    "arr = np.array([[1, 2, 3], [4, 5, 6]])\n",
    "arr[1][1]"
   ]
  }
 ],
 "metadata": {
  "kernelspec": {
   "display_name": "Python 3 (ipykernel)",
   "language": "python",
   "name": "python3"
  },
  "language_info": {
   "codemirror_mode": {
    "name": "ipython",
    "version": 3
   },
   "file_extension": ".py",
   "mimetype": "text/x-python",
   "name": "python",
   "nbconvert_exporter": "python",
   "pygments_lexer": "ipython3",
   "version": "3.12.7"
  }
 },
 "nbformat": 4,
 "nbformat_minor": 5
}
